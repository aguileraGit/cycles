{
 "cells": [
  {
   "cell_type": "code",
   "execution_count": 26,
   "id": "98f618c2-ca80-43ee-99a6-c70cd59432fd",
   "metadata": {},
   "outputs": [],
   "source": [
    "import dbCycles\n",
    "import datetime\n",
    "import pandas as pd\n",
    "import numpy as np\n",
    "import plotly.express as px\n",
    "import plotly.graph_objects as go"
   ]
  },
  {
   "cell_type": "code",
   "execution_count": 59,
   "id": "5f27718f-7354-4e0d-886c-2a3276bead77",
   "metadata": {},
   "outputs": [],
   "source": [
    "def getFormattedDate(_date=None, shiftDays=0):\n",
    "    formatString = \"%Y-%m-%d\"\n",
    "    if _date == None:\n",
    "        _date = datetime.datetime.now()\n",
    "    else:\n",
    "        _date = datetime.datetime.strptime(_date, formatString)\n",
    "    _date = _date - datetime.timedelta(days=shiftDays)\n",
    "\n",
    "    return _date.strftime(formatString)\n",
    "\n",
    "#Looks at past data per cycles. First need to go back per cycle or number of\n",
    "# days. Query DB: Select Date when active = 1. Then query each cycle per\n",
    "# query. Add Plot.ly plot. This should be called from the front end?\n",
    "def getHistoricDataV2(numOfCycles=3):\n",
    "\n",
    "    #Fetch start date of cycles\n",
    "    data = db.getCycleDates(numOfCycles)\n",
    "\n",
    "    #https://stackoverflow.com/questions/10632839/transform-list-of-tuples-into-a-flat-list-or-a-matrix\n",
    "    startDateList = list(sum(data, ()))\n",
    "\n",
    "    #Add today's date to list. Reverse to start with most recent\n",
    "    startDateList.append( getFormattedDate() )\n",
    "    startDateList.reverse()\n",
    "\n",
    "    #Create empty list to store each DF. Each DF is a cycle\n",
    "    dfs = []\n",
    "\n",
    "    #Loop through start dates except last date\n",
    "    for idx,startDate in enumerate(startDateList[:-1]):\n",
    "        endDate = startDateList[idx+1]\n",
    "\n",
    "        rawDataList = db.getActiveRecordsForDateRange(startDate, endDate)\n",
    "\n",
    "        title = ['ID', 'Record Date', 'Active', 'TimeStamp', 'Monitor', 'SexyTime',\n",
    "                 'Green Day', 'New Cycle']\n",
    "\n",
    "        tempDF = pd.DataFrame(rawDataList)\n",
    "        tempDF.columns = title\n",
    "\n",
    "        tempDF.sort_values('Record Date', inplace=True, ascending=False)\n",
    "        \n",
    "        #Need to remove row 1 if idx > 1\n",
    "\n",
    "        #Add column with increasing integer to aid in plot later on\n",
    "        tempIntList = np.arange(tempDF.shape[0])\n",
    "        \n",
    "        tempDF['Cycle Count'] = tempIntList[::-1]\n",
    "        \n",
    "        #Create figures\n",
    "        fig = px.line(tempDF, x='Record Date', y='Monitor', markers=True)\n",
    "        #Format date and center point\n",
    "        fig.update_xaxes(tickformat='%Y-%m-%d', ticklabelmode='period')\n",
    "\n",
    "        #Convert to list of dicts. {'plot':..., 'cycleLength':..., \n",
    "        \n",
    "        dfs.append(tempDF)\n",
    "        #dfs.append(fig.to_html(include_plotlyjs='cdn', full_html=False))\n",
    "\n",
    "    return dfs\n",
    "    \n",
    "db = dbCycles.cycleDBClass()\n",
    "\n",
    "dfsTemp = getHistoricDataV2()"
   ]
  },
  {
   "cell_type": "code",
   "execution_count": 37,
   "id": "91339d2d-ba73-47e9-9eb8-ca2c71661ca5",
   "metadata": {},
   "outputs": [
    {
     "data": {
      "text/html": [
       "<div>\n",
       "<style scoped>\n",
       "    .dataframe tbody tr th:only-of-type {\n",
       "        vertical-align: middle;\n",
       "    }\n",
       "\n",
       "    .dataframe tbody tr th {\n",
       "        vertical-align: top;\n",
       "    }\n",
       "\n",
       "    .dataframe thead th {\n",
       "        text-align: right;\n",
       "    }\n",
       "</style>\n",
       "<table border=\"1\" class=\"dataframe\">\n",
       "  <thead>\n",
       "    <tr style=\"text-align: right;\">\n",
       "      <th></th>\n",
       "      <th>ID</th>\n",
       "      <th>Record Date</th>\n",
       "      <th>Active</th>\n",
       "      <th>TimeStamp</th>\n",
       "      <th>Monitor</th>\n",
       "      <th>SexyTime</th>\n",
       "      <th>Green Day</th>\n",
       "      <th>New Cycle</th>\n",
       "      <th>Cycle Count</th>\n",
       "    </tr>\n",
       "  </thead>\n",
       "  <tbody>\n",
       "    <tr>\n",
       "      <th>0</th>\n",
       "      <td>1</td>\n",
       "      <td>2022-09-27</td>\n",
       "      <td>1</td>\n",
       "      <td>2022-09-27 21:43:09.137888</td>\n",
       "      <td>5</td>\n",
       "      <td>0</td>\n",
       "      <td>1</td>\n",
       "      <td>0</td>\n",
       "      <td>15</td>\n",
       "    </tr>\n",
       "    <tr>\n",
       "      <th>1</th>\n",
       "      <td>2</td>\n",
       "      <td>2022-09-26</td>\n",
       "      <td>1</td>\n",
       "      <td>2022-09-26 21:43:10.337144</td>\n",
       "      <td>4</td>\n",
       "      <td>0</td>\n",
       "      <td>0</td>\n",
       "      <td>0</td>\n",
       "      <td>14</td>\n",
       "    </tr>\n",
       "    <tr>\n",
       "      <th>2</th>\n",
       "      <td>3</td>\n",
       "      <td>2022-09-25</td>\n",
       "      <td>1</td>\n",
       "      <td>2022-09-25 21:43:10.390629</td>\n",
       "      <td>3</td>\n",
       "      <td>0</td>\n",
       "      <td>1</td>\n",
       "      <td>0</td>\n",
       "      <td>13</td>\n",
       "    </tr>\n",
       "    <tr>\n",
       "      <th>3</th>\n",
       "      <td>4</td>\n",
       "      <td>2022-09-24</td>\n",
       "      <td>1</td>\n",
       "      <td>2022-09-24 21:43:10.441803</td>\n",
       "      <td>11</td>\n",
       "      <td>1</td>\n",
       "      <td>1</td>\n",
       "      <td>0</td>\n",
       "      <td>12</td>\n",
       "    </tr>\n",
       "    <tr>\n",
       "      <th>4</th>\n",
       "      <td>5</td>\n",
       "      <td>2022-09-23</td>\n",
       "      <td>1</td>\n",
       "      <td>2022-09-23 21:43:10.490332</td>\n",
       "      <td>8</td>\n",
       "      <td>1</td>\n",
       "      <td>1</td>\n",
       "      <td>0</td>\n",
       "      <td>11</td>\n",
       "    </tr>\n",
       "    <tr>\n",
       "      <th>5</th>\n",
       "      <td>6</td>\n",
       "      <td>2022-09-22</td>\n",
       "      <td>1</td>\n",
       "      <td>2022-09-22 21:43:10.550775</td>\n",
       "      <td>2</td>\n",
       "      <td>1</td>\n",
       "      <td>1</td>\n",
       "      <td>0</td>\n",
       "      <td>10</td>\n",
       "    </tr>\n",
       "    <tr>\n",
       "      <th>6</th>\n",
       "      <td>7</td>\n",
       "      <td>2022-09-21</td>\n",
       "      <td>1</td>\n",
       "      <td>2022-09-21 21:43:10.596313</td>\n",
       "      <td>3</td>\n",
       "      <td>0</td>\n",
       "      <td>1</td>\n",
       "      <td>0</td>\n",
       "      <td>9</td>\n",
       "    </tr>\n",
       "    <tr>\n",
       "      <th>7</th>\n",
       "      <td>8</td>\n",
       "      <td>2022-09-20</td>\n",
       "      <td>1</td>\n",
       "      <td>2022-09-20 21:43:10.658630</td>\n",
       "      <td>7</td>\n",
       "      <td>1</td>\n",
       "      <td>1</td>\n",
       "      <td>0</td>\n",
       "      <td>8</td>\n",
       "    </tr>\n",
       "    <tr>\n",
       "      <th>8</th>\n",
       "      <td>9</td>\n",
       "      <td>2022-09-19</td>\n",
       "      <td>1</td>\n",
       "      <td>2022-09-19 21:43:10.696904</td>\n",
       "      <td>12</td>\n",
       "      <td>0</td>\n",
       "      <td>1</td>\n",
       "      <td>0</td>\n",
       "      <td>7</td>\n",
       "    </tr>\n",
       "    <tr>\n",
       "      <th>9</th>\n",
       "      <td>10</td>\n",
       "      <td>2022-09-18</td>\n",
       "      <td>1</td>\n",
       "      <td>2022-09-18 21:43:10.706600</td>\n",
       "      <td>23</td>\n",
       "      <td>1</td>\n",
       "      <td>0</td>\n",
       "      <td>0</td>\n",
       "      <td>6</td>\n",
       "    </tr>\n",
       "    <tr>\n",
       "      <th>10</th>\n",
       "      <td>11</td>\n",
       "      <td>2022-09-17</td>\n",
       "      <td>1</td>\n",
       "      <td>2022-09-17 21:43:10.716438</td>\n",
       "      <td>17</td>\n",
       "      <td>0</td>\n",
       "      <td>0</td>\n",
       "      <td>0</td>\n",
       "      <td>5</td>\n",
       "    </tr>\n",
       "    <tr>\n",
       "      <th>11</th>\n",
       "      <td>12</td>\n",
       "      <td>2022-09-16</td>\n",
       "      <td>1</td>\n",
       "      <td>2022-09-16 21:43:10.726387</td>\n",
       "      <td>9</td>\n",
       "      <td>0</td>\n",
       "      <td>0</td>\n",
       "      <td>0</td>\n",
       "      <td>4</td>\n",
       "    </tr>\n",
       "    <tr>\n",
       "      <th>12</th>\n",
       "      <td>13</td>\n",
       "      <td>2022-09-15</td>\n",
       "      <td>1</td>\n",
       "      <td>2022-09-15 21:43:10.735922</td>\n",
       "      <td>4</td>\n",
       "      <td>1</td>\n",
       "      <td>0</td>\n",
       "      <td>0</td>\n",
       "      <td>3</td>\n",
       "    </tr>\n",
       "    <tr>\n",
       "      <th>13</th>\n",
       "      <td>14</td>\n",
       "      <td>2022-09-14</td>\n",
       "      <td>1</td>\n",
       "      <td>2022-09-14 21:43:10.745140</td>\n",
       "      <td>5</td>\n",
       "      <td>1</td>\n",
       "      <td>0</td>\n",
       "      <td>0</td>\n",
       "      <td>2</td>\n",
       "    </tr>\n",
       "    <tr>\n",
       "      <th>14</th>\n",
       "      <td>15</td>\n",
       "      <td>2022-09-13</td>\n",
       "      <td>1</td>\n",
       "      <td>2022-09-13 21:43:10.754601</td>\n",
       "      <td>5</td>\n",
       "      <td>0</td>\n",
       "      <td>0</td>\n",
       "      <td>0</td>\n",
       "      <td>1</td>\n",
       "    </tr>\n",
       "    <tr>\n",
       "      <th>15</th>\n",
       "      <td>16</td>\n",
       "      <td>2022-09-12</td>\n",
       "      <td>1</td>\n",
       "      <td>2022-09-12 21:43:10.765167</td>\n",
       "      <td>5</td>\n",
       "      <td>1</td>\n",
       "      <td>0</td>\n",
       "      <td>1</td>\n",
       "      <td>0</td>\n",
       "    </tr>\n",
       "  </tbody>\n",
       "</table>\n",
       "</div>"
      ],
      "text/plain": [
       "    ID Record Date  Active                   TimeStamp  Monitor  SexyTime  \\\n",
       "0    1  2022-09-27       1  2022-09-27 21:43:09.137888        5         0   \n",
       "1    2  2022-09-26       1  2022-09-26 21:43:10.337144        4         0   \n",
       "2    3  2022-09-25       1  2022-09-25 21:43:10.390629        3         0   \n",
       "3    4  2022-09-24       1  2022-09-24 21:43:10.441803       11         1   \n",
       "4    5  2022-09-23       1  2022-09-23 21:43:10.490332        8         1   \n",
       "5    6  2022-09-22       1  2022-09-22 21:43:10.550775        2         1   \n",
       "6    7  2022-09-21       1  2022-09-21 21:43:10.596313        3         0   \n",
       "7    8  2022-09-20       1  2022-09-20 21:43:10.658630        7         1   \n",
       "8    9  2022-09-19       1  2022-09-19 21:43:10.696904       12         0   \n",
       "9   10  2022-09-18       1  2022-09-18 21:43:10.706600       23         1   \n",
       "10  11  2022-09-17       1  2022-09-17 21:43:10.716438       17         0   \n",
       "11  12  2022-09-16       1  2022-09-16 21:43:10.726387        9         0   \n",
       "12  13  2022-09-15       1  2022-09-15 21:43:10.735922        4         1   \n",
       "13  14  2022-09-14       1  2022-09-14 21:43:10.745140        5         1   \n",
       "14  15  2022-09-13       1  2022-09-13 21:43:10.754601        5         0   \n",
       "15  16  2022-09-12       1  2022-09-12 21:43:10.765167        5         1   \n",
       "\n",
       "    Green Day  New Cycle  Cycle Count  \n",
       "0           1          0           15  \n",
       "1           0          0           14  \n",
       "2           1          0           13  \n",
       "3           1          0           12  \n",
       "4           1          0           11  \n",
       "5           1          0           10  \n",
       "6           1          0            9  \n",
       "7           1          0            8  \n",
       "8           1          0            7  \n",
       "9           0          0            6  \n",
       "10          0          0            5  \n",
       "11          0          0            4  \n",
       "12          0          0            3  \n",
       "13          0          0            2  \n",
       "14          0          0            1  \n",
       "15          0          1            0  "
      ]
     },
     "execution_count": 37,
     "metadata": {},
     "output_type": "execute_result"
    }
   ],
   "source": [
    "dfsTemp[0]"
   ]
  },
  {
   "cell_type": "code",
   "execution_count": 79,
   "id": "9fb87865-2854-47ac-aaf8-664ae10587a1",
   "metadata": {},
   "outputs": [
    {
     "data": {
      "application/vnd.plotly.v1+json": {
       "config": {
        "plotlyServerURL": "https://plot.ly"
       },
       "data": [
        {
         "line": {
          "color": "black"
         },
         "mode": "lines+markers",
         "text": [
          15,
          14,
          13,
          12,
          11,
          10,
          9,
          8,
          7,
          6,
          5,
          4,
          3,
          2,
          1,
          0
         ],
         "type": "scatter",
         "x": [
          "2022-09-27",
          "2022-09-26",
          "2022-09-25",
          "2022-09-24",
          "2022-09-23",
          "2022-09-22",
          "2022-09-21",
          "2022-09-20",
          "2022-09-19",
          "2022-09-18",
          "2022-09-17",
          "2022-09-16",
          "2022-09-15",
          "2022-09-14",
          "2022-09-13",
          "2022-09-12"
         ],
         "y": [
          5,
          4,
          3,
          11,
          8,
          2,
          3,
          7,
          12,
          23,
          17,
          9,
          4,
          5,
          5,
          5
         ]
        }
       ],
       "layout": {
        "annotations": [
         {
          "arrowhead": 1,
          "showarrow": false,
          "text": "15",
          "x": "2022-09-27",
          "y": 0
         },
         {
          "arrowhead": 1,
          "showarrow": false,
          "text": "14",
          "x": "2022-09-26",
          "y": 0
         },
         {
          "arrowhead": 1,
          "showarrow": false,
          "text": "13",
          "x": "2022-09-25",
          "y": 0
         },
         {
          "arrowhead": 1,
          "showarrow": false,
          "text": "12",
          "x": "2022-09-24",
          "y": 0
         },
         {
          "arrowhead": 1,
          "showarrow": false,
          "text": "11",
          "x": "2022-09-23",
          "y": 0
         },
         {
          "arrowhead": 1,
          "showarrow": false,
          "text": "10",
          "x": "2022-09-22",
          "y": 0
         },
         {
          "arrowhead": 1,
          "showarrow": false,
          "text": "9",
          "x": "2022-09-21",
          "y": 0
         },
         {
          "arrowhead": 1,
          "showarrow": false,
          "text": "8",
          "x": "2022-09-20",
          "y": 0
         },
         {
          "arrowhead": 1,
          "showarrow": false,
          "text": "7",
          "x": "2022-09-19",
          "y": 0
         },
         {
          "arrowhead": 1,
          "showarrow": false,
          "text": "6",
          "x": "2022-09-18",
          "y": 0
         },
         {
          "arrowhead": 1,
          "showarrow": false,
          "text": "5",
          "x": "2022-09-17",
          "y": 0
         },
         {
          "arrowhead": 1,
          "showarrow": false,
          "text": "4",
          "x": "2022-09-16",
          "y": 0
         },
         {
          "arrowhead": 1,
          "showarrow": false,
          "text": "3",
          "x": "2022-09-15",
          "y": 0
         },
         {
          "arrowhead": 1,
          "showarrow": false,
          "text": "2",
          "x": "2022-09-14",
          "y": 0
         },
         {
          "arrowhead": 1,
          "showarrow": false,
          "text": "1",
          "x": "2022-09-13",
          "y": 0
         },
         {
          "arrowhead": 1,
          "showarrow": false,
          "text": "0",
          "x": "2022-09-12",
          "y": 0
         }
        ],
        "autosize": true,
        "shapes": [
         {
          "line": {
           "color": "black",
           "dash": "dash",
           "width": 1
          },
          "opacity": 0.8,
          "type": "line",
          "x0": "2022-09-26 12:00",
          "x1": "2022-09-26 12:00",
          "xref": "x",
          "y0": 0,
          "y1": 1,
          "yref": "y domain"
         },
         {
          "line": {
           "color": "black",
           "dash": "dash",
           "width": 1
          },
          "opacity": 0.8,
          "type": "line",
          "x0": "2022-09-27 12:00",
          "x1": "2022-09-27 12:00",
          "xref": "x",
          "y0": 0,
          "y1": 1,
          "yref": "y domain"
         },
         {
          "fillcolor": "green",
          "line": {
           "width": 0
          },
          "opacity": 0.1,
          "type": "rect",
          "x0": "2022-09-26 12:00",
          "x1": "2022-09-27 12:00",
          "xref": "x",
          "y0": 0,
          "y1": 1,
          "yref": "y domain"
         },
         {
          "line": {
           "color": "black",
           "dash": "dash",
           "width": 1
          },
          "opacity": 0.8,
          "type": "line",
          "x0": "2022-09-25 12:00",
          "x1": "2022-09-25 12:00",
          "xref": "x",
          "y0": 0,
          "y1": 1,
          "yref": "y domain"
         },
         {
          "line": {
           "color": "black",
           "dash": "dash",
           "width": 1
          },
          "opacity": 0.8,
          "type": "line",
          "x0": "2022-09-26 12:00",
          "x1": "2022-09-26 12:00",
          "xref": "x",
          "y0": 0,
          "y1": 1,
          "yref": "y domain"
         },
         {
          "fillcolor": "red",
          "line": {
           "width": 0
          },
          "opacity": 0.1,
          "type": "rect",
          "x0": "2022-09-25 12:00",
          "x1": "2022-09-26 12:00",
          "xref": "x",
          "y0": 0,
          "y1": 1,
          "yref": "y domain"
         },
         {
          "line": {
           "color": "black",
           "dash": "dash",
           "width": 1
          },
          "opacity": 0.8,
          "type": "line",
          "x0": "2022-09-24 12:00",
          "x1": "2022-09-24 12:00",
          "xref": "x",
          "y0": 0,
          "y1": 1,
          "yref": "y domain"
         },
         {
          "line": {
           "color": "black",
           "dash": "dash",
           "width": 1
          },
          "opacity": 0.8,
          "type": "line",
          "x0": "2022-09-25 12:00",
          "x1": "2022-09-25 12:00",
          "xref": "x",
          "y0": 0,
          "y1": 1,
          "yref": "y domain"
         },
         {
          "fillcolor": "green",
          "line": {
           "width": 0
          },
          "opacity": 0.1,
          "type": "rect",
          "x0": "2022-09-24 12:00",
          "x1": "2022-09-25 12:00",
          "xref": "x",
          "y0": 0,
          "y1": 1,
          "yref": "y domain"
         },
         {
          "line": {
           "color": "black",
           "dash": "dash",
           "width": 1
          },
          "opacity": 0.8,
          "type": "line",
          "x0": "2022-09-23 12:00",
          "x1": "2022-09-23 12:00",
          "xref": "x",
          "y0": 0,
          "y1": 1,
          "yref": "y domain"
         },
         {
          "line": {
           "color": "black",
           "dash": "dash",
           "width": 1
          },
          "opacity": 0.8,
          "type": "line",
          "x0": "2022-09-24 12:00",
          "x1": "2022-09-24 12:00",
          "xref": "x",
          "y0": 0,
          "y1": 1,
          "yref": "y domain"
         },
         {
          "fillcolor": "green",
          "line": {
           "width": 0
          },
          "opacity": 0.1,
          "type": "rect",
          "x0": "2022-09-23 12:00",
          "x1": "2022-09-24 12:00",
          "xref": "x",
          "y0": 0,
          "y1": 1,
          "yref": "y domain"
         },
         {
          "line": {
           "color": "black",
           "dash": "dash",
           "width": 1
          },
          "opacity": 0.8,
          "type": "line",
          "x0": "2022-09-22 12:00",
          "x1": "2022-09-22 12:00",
          "xref": "x",
          "y0": 0,
          "y1": 1,
          "yref": "y domain"
         },
         {
          "line": {
           "color": "black",
           "dash": "dash",
           "width": 1
          },
          "opacity": 0.8,
          "type": "line",
          "x0": "2022-09-23 12:00",
          "x1": "2022-09-23 12:00",
          "xref": "x",
          "y0": 0,
          "y1": 1,
          "yref": "y domain"
         },
         {
          "fillcolor": "green",
          "line": {
           "width": 0
          },
          "opacity": 0.1,
          "type": "rect",
          "x0": "2022-09-22 12:00",
          "x1": "2022-09-23 12:00",
          "xref": "x",
          "y0": 0,
          "y1": 1,
          "yref": "y domain"
         },
         {
          "line": {
           "color": "black",
           "dash": "dash",
           "width": 1
          },
          "opacity": 0.8,
          "type": "line",
          "x0": "2022-09-21 12:00",
          "x1": "2022-09-21 12:00",
          "xref": "x",
          "y0": 0,
          "y1": 1,
          "yref": "y domain"
         },
         {
          "line": {
           "color": "black",
           "dash": "dash",
           "width": 1
          },
          "opacity": 0.8,
          "type": "line",
          "x0": "2022-09-22 12:00",
          "x1": "2022-09-22 12:00",
          "xref": "x",
          "y0": 0,
          "y1": 1,
          "yref": "y domain"
         },
         {
          "fillcolor": "green",
          "line": {
           "width": 0
          },
          "opacity": 0.1,
          "type": "rect",
          "x0": "2022-09-21 12:00",
          "x1": "2022-09-22 12:00",
          "xref": "x",
          "y0": 0,
          "y1": 1,
          "yref": "y domain"
         },
         {
          "line": {
           "color": "black",
           "dash": "dash",
           "width": 1
          },
          "opacity": 0.8,
          "type": "line",
          "x0": "2022-09-20 12:00",
          "x1": "2022-09-20 12:00",
          "xref": "x",
          "y0": 0,
          "y1": 1,
          "yref": "y domain"
         },
         {
          "line": {
           "color": "black",
           "dash": "dash",
           "width": 1
          },
          "opacity": 0.8,
          "type": "line",
          "x0": "2022-09-21 12:00",
          "x1": "2022-09-21 12:00",
          "xref": "x",
          "y0": 0,
          "y1": 1,
          "yref": "y domain"
         },
         {
          "fillcolor": "green",
          "line": {
           "width": 0
          },
          "opacity": 0.1,
          "type": "rect",
          "x0": "2022-09-20 12:00",
          "x1": "2022-09-21 12:00",
          "xref": "x",
          "y0": 0,
          "y1": 1,
          "yref": "y domain"
         },
         {
          "line": {
           "color": "black",
           "dash": "dash",
           "width": 1
          },
          "opacity": 0.8,
          "type": "line",
          "x0": "2022-09-19 12:00",
          "x1": "2022-09-19 12:00",
          "xref": "x",
          "y0": 0,
          "y1": 1,
          "yref": "y domain"
         },
         {
          "line": {
           "color": "black",
           "dash": "dash",
           "width": 1
          },
          "opacity": 0.8,
          "type": "line",
          "x0": "2022-09-20 12:00",
          "x1": "2022-09-20 12:00",
          "xref": "x",
          "y0": 0,
          "y1": 1,
          "yref": "y domain"
         },
         {
          "fillcolor": "green",
          "line": {
           "width": 0
          },
          "opacity": 0.1,
          "type": "rect",
          "x0": "2022-09-19 12:00",
          "x1": "2022-09-20 12:00",
          "xref": "x",
          "y0": 0,
          "y1": 1,
          "yref": "y domain"
         },
         {
          "line": {
           "color": "black",
           "dash": "dash",
           "width": 1
          },
          "opacity": 0.8,
          "type": "line",
          "x0": "2022-09-18 12:00",
          "x1": "2022-09-18 12:00",
          "xref": "x",
          "y0": 0,
          "y1": 1,
          "yref": "y domain"
         },
         {
          "line": {
           "color": "black",
           "dash": "dash",
           "width": 1
          },
          "opacity": 0.8,
          "type": "line",
          "x0": "2022-09-19 12:00",
          "x1": "2022-09-19 12:00",
          "xref": "x",
          "y0": 0,
          "y1": 1,
          "yref": "y domain"
         },
         {
          "fillcolor": "green",
          "line": {
           "width": 0
          },
          "opacity": 0.1,
          "type": "rect",
          "x0": "2022-09-18 12:00",
          "x1": "2022-09-19 12:00",
          "xref": "x",
          "y0": 0,
          "y1": 1,
          "yref": "y domain"
         },
         {
          "line": {
           "color": "black",
           "dash": "dash",
           "width": 1
          },
          "opacity": 0.8,
          "type": "line",
          "x0": "2022-09-17 12:00",
          "x1": "2022-09-17 12:00",
          "xref": "x",
          "y0": 0,
          "y1": 1,
          "yref": "y domain"
         },
         {
          "line": {
           "color": "black",
           "dash": "dash",
           "width": 1
          },
          "opacity": 0.8,
          "type": "line",
          "x0": "2022-09-18 12:00",
          "x1": "2022-09-18 12:00",
          "xref": "x",
          "y0": 0,
          "y1": 1,
          "yref": "y domain"
         },
         {
          "fillcolor": "red",
          "line": {
           "width": 0
          },
          "opacity": 0.1,
          "type": "rect",
          "x0": "2022-09-17 12:00",
          "x1": "2022-09-18 12:00",
          "xref": "x",
          "y0": 0,
          "y1": 1,
          "yref": "y domain"
         },
         {
          "line": {
           "color": "black",
           "dash": "dash",
           "width": 1
          },
          "opacity": 0.8,
          "type": "line",
          "x0": "2022-09-16 12:00",
          "x1": "2022-09-16 12:00",
          "xref": "x",
          "y0": 0,
          "y1": 1,
          "yref": "y domain"
         },
         {
          "line": {
           "color": "black",
           "dash": "dash",
           "width": 1
          },
          "opacity": 0.8,
          "type": "line",
          "x0": "2022-09-17 12:00",
          "x1": "2022-09-17 12:00",
          "xref": "x",
          "y0": 0,
          "y1": 1,
          "yref": "y domain"
         },
         {
          "fillcolor": "red",
          "line": {
           "width": 0
          },
          "opacity": 0.1,
          "type": "rect",
          "x0": "2022-09-16 12:00",
          "x1": "2022-09-17 12:00",
          "xref": "x",
          "y0": 0,
          "y1": 1,
          "yref": "y domain"
         },
         {
          "line": {
           "color": "black",
           "dash": "dash",
           "width": 1
          },
          "opacity": 0.8,
          "type": "line",
          "x0": "2022-09-15 12:00",
          "x1": "2022-09-15 12:00",
          "xref": "x",
          "y0": 0,
          "y1": 1,
          "yref": "y domain"
         },
         {
          "line": {
           "color": "black",
           "dash": "dash",
           "width": 1
          },
          "opacity": 0.8,
          "type": "line",
          "x0": "2022-09-16 12:00",
          "x1": "2022-09-16 12:00",
          "xref": "x",
          "y0": 0,
          "y1": 1,
          "yref": "y domain"
         },
         {
          "fillcolor": "red",
          "line": {
           "width": 0
          },
          "opacity": 0.1,
          "type": "rect",
          "x0": "2022-09-15 12:00",
          "x1": "2022-09-16 12:00",
          "xref": "x",
          "y0": 0,
          "y1": 1,
          "yref": "y domain"
         },
         {
          "line": {
           "color": "black",
           "dash": "dash",
           "width": 1
          },
          "opacity": 0.8,
          "type": "line",
          "x0": "2022-09-14 12:00",
          "x1": "2022-09-14 12:00",
          "xref": "x",
          "y0": 0,
          "y1": 1,
          "yref": "y domain"
         },
         {
          "line": {
           "color": "black",
           "dash": "dash",
           "width": 1
          },
          "opacity": 0.8,
          "type": "line",
          "x0": "2022-09-15 12:00",
          "x1": "2022-09-15 12:00",
          "xref": "x",
          "y0": 0,
          "y1": 1,
          "yref": "y domain"
         },
         {
          "fillcolor": "red",
          "line": {
           "width": 0
          },
          "opacity": 0.1,
          "type": "rect",
          "x0": "2022-09-14 12:00",
          "x1": "2022-09-15 12:00",
          "xref": "x",
          "y0": 0,
          "y1": 1,
          "yref": "y domain"
         },
         {
          "line": {
           "color": "black",
           "dash": "dash",
           "width": 1
          },
          "opacity": 0.8,
          "type": "line",
          "x0": "2022-09-13 12:00",
          "x1": "2022-09-13 12:00",
          "xref": "x",
          "y0": 0,
          "y1": 1,
          "yref": "y domain"
         },
         {
          "line": {
           "color": "black",
           "dash": "dash",
           "width": 1
          },
          "opacity": 0.8,
          "type": "line",
          "x0": "2022-09-14 12:00",
          "x1": "2022-09-14 12:00",
          "xref": "x",
          "y0": 0,
          "y1": 1,
          "yref": "y domain"
         },
         {
          "fillcolor": "red",
          "line": {
           "width": 0
          },
          "opacity": 0.1,
          "type": "rect",
          "x0": "2022-09-13 12:00",
          "x1": "2022-09-14 12:00",
          "xref": "x",
          "y0": 0,
          "y1": 1,
          "yref": "y domain"
         },
         {
          "line": {
           "color": "black",
           "dash": "dash",
           "width": 1
          },
          "opacity": 0.8,
          "type": "line",
          "x0": "2022-09-12 12:00",
          "x1": "2022-09-12 12:00",
          "xref": "x",
          "y0": 0,
          "y1": 1,
          "yref": "y domain"
         },
         {
          "line": {
           "color": "black",
           "dash": "dash",
           "width": 1
          },
          "opacity": 0.8,
          "type": "line",
          "x0": "2022-09-13 12:00",
          "x1": "2022-09-13 12:00",
          "xref": "x",
          "y0": 0,
          "y1": 1,
          "yref": "y domain"
         },
         {
          "fillcolor": "red",
          "line": {
           "width": 0
          },
          "opacity": 0.1,
          "type": "rect",
          "x0": "2022-09-12 12:00",
          "x1": "2022-09-13 12:00",
          "xref": "x",
          "y0": 0,
          "y1": 1,
          "yref": "y domain"
         },
         {
          "line": {
           "color": "black",
           "dash": "dash",
           "width": 1
          },
          "opacity": 0.8,
          "type": "line",
          "x0": "2022-09-11 12:00",
          "x1": "2022-09-11 12:00",
          "xref": "x",
          "y0": 0,
          "y1": 1,
          "yref": "y domain"
         },
         {
          "line": {
           "color": "black",
           "dash": "dash",
           "width": 1
          },
          "opacity": 0.8,
          "type": "line",
          "x0": "2022-09-12 12:00",
          "x1": "2022-09-12 12:00",
          "xref": "x",
          "y0": 0,
          "y1": 1,
          "yref": "y domain"
         },
         {
          "fillcolor": "red",
          "line": {
           "width": 0
          },
          "opacity": 0.1,
          "type": "rect",
          "x0": "2022-09-11 12:00",
          "x1": "2022-09-12 12:00",
          "xref": "x",
          "y0": 0,
          "y1": 1,
          "yref": "y domain"
         }
        ],
        "template": {
         "data": {
          "bar": [
           {
            "error_x": {
             "color": "#2a3f5f"
            },
            "error_y": {
             "color": "#2a3f5f"
            },
            "marker": {
             "line": {
              "color": "#E5ECF6",
              "width": 0.5
             },
             "pattern": {
              "fillmode": "overlay",
              "size": 10,
              "solidity": 0.2
             }
            },
            "type": "bar"
           }
          ],
          "barpolar": [
           {
            "marker": {
             "line": {
              "color": "#E5ECF6",
              "width": 0.5
             },
             "pattern": {
              "fillmode": "overlay",
              "size": 10,
              "solidity": 0.2
             }
            },
            "type": "barpolar"
           }
          ],
          "carpet": [
           {
            "aaxis": {
             "endlinecolor": "#2a3f5f",
             "gridcolor": "white",
             "linecolor": "white",
             "minorgridcolor": "white",
             "startlinecolor": "#2a3f5f"
            },
            "baxis": {
             "endlinecolor": "#2a3f5f",
             "gridcolor": "white",
             "linecolor": "white",
             "minorgridcolor": "white",
             "startlinecolor": "#2a3f5f"
            },
            "type": "carpet"
           }
          ],
          "choropleth": [
           {
            "colorbar": {
             "outlinewidth": 0,
             "ticks": ""
            },
            "type": "choropleth"
           }
          ],
          "contour": [
           {
            "colorbar": {
             "outlinewidth": 0,
             "ticks": ""
            },
            "colorscale": [
             [
              0,
              "#0d0887"
             ],
             [
              0.1111111111111111,
              "#46039f"
             ],
             [
              0.2222222222222222,
              "#7201a8"
             ],
             [
              0.3333333333333333,
              "#9c179e"
             ],
             [
              0.4444444444444444,
              "#bd3786"
             ],
             [
              0.5555555555555556,
              "#d8576b"
             ],
             [
              0.6666666666666666,
              "#ed7953"
             ],
             [
              0.7777777777777778,
              "#fb9f3a"
             ],
             [
              0.8888888888888888,
              "#fdca26"
             ],
             [
              1,
              "#f0f921"
             ]
            ],
            "type": "contour"
           }
          ],
          "contourcarpet": [
           {
            "colorbar": {
             "outlinewidth": 0,
             "ticks": ""
            },
            "type": "contourcarpet"
           }
          ],
          "heatmap": [
           {
            "colorbar": {
             "outlinewidth": 0,
             "ticks": ""
            },
            "colorscale": [
             [
              0,
              "#0d0887"
             ],
             [
              0.1111111111111111,
              "#46039f"
             ],
             [
              0.2222222222222222,
              "#7201a8"
             ],
             [
              0.3333333333333333,
              "#9c179e"
             ],
             [
              0.4444444444444444,
              "#bd3786"
             ],
             [
              0.5555555555555556,
              "#d8576b"
             ],
             [
              0.6666666666666666,
              "#ed7953"
             ],
             [
              0.7777777777777778,
              "#fb9f3a"
             ],
             [
              0.8888888888888888,
              "#fdca26"
             ],
             [
              1,
              "#f0f921"
             ]
            ],
            "type": "heatmap"
           }
          ],
          "heatmapgl": [
           {
            "colorbar": {
             "outlinewidth": 0,
             "ticks": ""
            },
            "colorscale": [
             [
              0,
              "#0d0887"
             ],
             [
              0.1111111111111111,
              "#46039f"
             ],
             [
              0.2222222222222222,
              "#7201a8"
             ],
             [
              0.3333333333333333,
              "#9c179e"
             ],
             [
              0.4444444444444444,
              "#bd3786"
             ],
             [
              0.5555555555555556,
              "#d8576b"
             ],
             [
              0.6666666666666666,
              "#ed7953"
             ],
             [
              0.7777777777777778,
              "#fb9f3a"
             ],
             [
              0.8888888888888888,
              "#fdca26"
             ],
             [
              1,
              "#f0f921"
             ]
            ],
            "type": "heatmapgl"
           }
          ],
          "histogram": [
           {
            "marker": {
             "pattern": {
              "fillmode": "overlay",
              "size": 10,
              "solidity": 0.2
             }
            },
            "type": "histogram"
           }
          ],
          "histogram2d": [
           {
            "colorbar": {
             "outlinewidth": 0,
             "ticks": ""
            },
            "colorscale": [
             [
              0,
              "#0d0887"
             ],
             [
              0.1111111111111111,
              "#46039f"
             ],
             [
              0.2222222222222222,
              "#7201a8"
             ],
             [
              0.3333333333333333,
              "#9c179e"
             ],
             [
              0.4444444444444444,
              "#bd3786"
             ],
             [
              0.5555555555555556,
              "#d8576b"
             ],
             [
              0.6666666666666666,
              "#ed7953"
             ],
             [
              0.7777777777777778,
              "#fb9f3a"
             ],
             [
              0.8888888888888888,
              "#fdca26"
             ],
             [
              1,
              "#f0f921"
             ]
            ],
            "type": "histogram2d"
           }
          ],
          "histogram2dcontour": [
           {
            "colorbar": {
             "outlinewidth": 0,
             "ticks": ""
            },
            "colorscale": [
             [
              0,
              "#0d0887"
             ],
             [
              0.1111111111111111,
              "#46039f"
             ],
             [
              0.2222222222222222,
              "#7201a8"
             ],
             [
              0.3333333333333333,
              "#9c179e"
             ],
             [
              0.4444444444444444,
              "#bd3786"
             ],
             [
              0.5555555555555556,
              "#d8576b"
             ],
             [
              0.6666666666666666,
              "#ed7953"
             ],
             [
              0.7777777777777778,
              "#fb9f3a"
             ],
             [
              0.8888888888888888,
              "#fdca26"
             ],
             [
              1,
              "#f0f921"
             ]
            ],
            "type": "histogram2dcontour"
           }
          ],
          "mesh3d": [
           {
            "colorbar": {
             "outlinewidth": 0,
             "ticks": ""
            },
            "type": "mesh3d"
           }
          ],
          "parcoords": [
           {
            "line": {
             "colorbar": {
              "outlinewidth": 0,
              "ticks": ""
             }
            },
            "type": "parcoords"
           }
          ],
          "pie": [
           {
            "automargin": true,
            "type": "pie"
           }
          ],
          "scatter": [
           {
            "marker": {
             "colorbar": {
              "outlinewidth": 0,
              "ticks": ""
             }
            },
            "type": "scatter"
           }
          ],
          "scatter3d": [
           {
            "line": {
             "colorbar": {
              "outlinewidth": 0,
              "ticks": ""
             }
            },
            "marker": {
             "colorbar": {
              "outlinewidth": 0,
              "ticks": ""
             }
            },
            "type": "scatter3d"
           }
          ],
          "scattercarpet": [
           {
            "marker": {
             "colorbar": {
              "outlinewidth": 0,
              "ticks": ""
             }
            },
            "type": "scattercarpet"
           }
          ],
          "scattergeo": [
           {
            "marker": {
             "colorbar": {
              "outlinewidth": 0,
              "ticks": ""
             }
            },
            "type": "scattergeo"
           }
          ],
          "scattergl": [
           {
            "marker": {
             "colorbar": {
              "outlinewidth": 0,
              "ticks": ""
             }
            },
            "type": "scattergl"
           }
          ],
          "scattermapbox": [
           {
            "marker": {
             "colorbar": {
              "outlinewidth": 0,
              "ticks": ""
             }
            },
            "type": "scattermapbox"
           }
          ],
          "scatterpolar": [
           {
            "marker": {
             "colorbar": {
              "outlinewidth": 0,
              "ticks": ""
             }
            },
            "type": "scatterpolar"
           }
          ],
          "scatterpolargl": [
           {
            "marker": {
             "colorbar": {
              "outlinewidth": 0,
              "ticks": ""
             }
            },
            "type": "scatterpolargl"
           }
          ],
          "scatterternary": [
           {
            "marker": {
             "colorbar": {
              "outlinewidth": 0,
              "ticks": ""
             }
            },
            "type": "scatterternary"
           }
          ],
          "surface": [
           {
            "colorbar": {
             "outlinewidth": 0,
             "ticks": ""
            },
            "colorscale": [
             [
              0,
              "#0d0887"
             ],
             [
              0.1111111111111111,
              "#46039f"
             ],
             [
              0.2222222222222222,
              "#7201a8"
             ],
             [
              0.3333333333333333,
              "#9c179e"
             ],
             [
              0.4444444444444444,
              "#bd3786"
             ],
             [
              0.5555555555555556,
              "#d8576b"
             ],
             [
              0.6666666666666666,
              "#ed7953"
             ],
             [
              0.7777777777777778,
              "#fb9f3a"
             ],
             [
              0.8888888888888888,
              "#fdca26"
             ],
             [
              1,
              "#f0f921"
             ]
            ],
            "type": "surface"
           }
          ],
          "table": [
           {
            "cells": {
             "fill": {
              "color": "#EBF0F8"
             },
             "line": {
              "color": "white"
             }
            },
            "header": {
             "fill": {
              "color": "#C8D4E3"
             },
             "line": {
              "color": "white"
             }
            },
            "type": "table"
           }
          ]
         },
         "layout": {
          "annotationdefaults": {
           "arrowcolor": "#2a3f5f",
           "arrowhead": 0,
           "arrowwidth": 1
          },
          "autotypenumbers": "strict",
          "coloraxis": {
           "colorbar": {
            "outlinewidth": 0,
            "ticks": ""
           }
          },
          "colorscale": {
           "diverging": [
            [
             0,
             "#8e0152"
            ],
            [
             0.1,
             "#c51b7d"
            ],
            [
             0.2,
             "#de77ae"
            ],
            [
             0.3,
             "#f1b6da"
            ],
            [
             0.4,
             "#fde0ef"
            ],
            [
             0.5,
             "#f7f7f7"
            ],
            [
             0.6,
             "#e6f5d0"
            ],
            [
             0.7,
             "#b8e186"
            ],
            [
             0.8,
             "#7fbc41"
            ],
            [
             0.9,
             "#4d9221"
            ],
            [
             1,
             "#276419"
            ]
           ],
           "sequential": [
            [
             0,
             "#0d0887"
            ],
            [
             0.1111111111111111,
             "#46039f"
            ],
            [
             0.2222222222222222,
             "#7201a8"
            ],
            [
             0.3333333333333333,
             "#9c179e"
            ],
            [
             0.4444444444444444,
             "#bd3786"
            ],
            [
             0.5555555555555556,
             "#d8576b"
            ],
            [
             0.6666666666666666,
             "#ed7953"
            ],
            [
             0.7777777777777778,
             "#fb9f3a"
            ],
            [
             0.8888888888888888,
             "#fdca26"
            ],
            [
             1,
             "#f0f921"
            ]
           ],
           "sequentialminus": [
            [
             0,
             "#0d0887"
            ],
            [
             0.1111111111111111,
             "#46039f"
            ],
            [
             0.2222222222222222,
             "#7201a8"
            ],
            [
             0.3333333333333333,
             "#9c179e"
            ],
            [
             0.4444444444444444,
             "#bd3786"
            ],
            [
             0.5555555555555556,
             "#d8576b"
            ],
            [
             0.6666666666666666,
             "#ed7953"
            ],
            [
             0.7777777777777778,
             "#fb9f3a"
            ],
            [
             0.8888888888888888,
             "#fdca26"
            ],
            [
             1,
             "#f0f921"
            ]
           ]
          },
          "colorway": [
           "#636efa",
           "#EF553B",
           "#00cc96",
           "#ab63fa",
           "#FFA15A",
           "#19d3f3",
           "#FF6692",
           "#B6E880",
           "#FF97FF",
           "#FECB52"
          ],
          "font": {
           "color": "#2a3f5f"
          },
          "geo": {
           "bgcolor": "white",
           "lakecolor": "white",
           "landcolor": "#E5ECF6",
           "showlakes": true,
           "showland": true,
           "subunitcolor": "white"
          },
          "hoverlabel": {
           "align": "left"
          },
          "hovermode": "closest",
          "mapbox": {
           "style": "light"
          },
          "paper_bgcolor": "white",
          "plot_bgcolor": "#E5ECF6",
          "polar": {
           "angularaxis": {
            "gridcolor": "white",
            "linecolor": "white",
            "ticks": ""
           },
           "bgcolor": "#E5ECF6",
           "radialaxis": {
            "gridcolor": "white",
            "linecolor": "white",
            "ticks": ""
           }
          },
          "scene": {
           "xaxis": {
            "backgroundcolor": "#E5ECF6",
            "gridcolor": "white",
            "gridwidth": 2,
            "linecolor": "white",
            "showbackground": true,
            "ticks": "",
            "zerolinecolor": "white"
           },
           "yaxis": {
            "backgroundcolor": "#E5ECF6",
            "gridcolor": "white",
            "gridwidth": 2,
            "linecolor": "white",
            "showbackground": true,
            "ticks": "",
            "zerolinecolor": "white"
           },
           "zaxis": {
            "backgroundcolor": "#E5ECF6",
            "gridcolor": "white",
            "gridwidth": 2,
            "linecolor": "white",
            "showbackground": true,
            "ticks": "",
            "zerolinecolor": "white"
           }
          },
          "shapedefaults": {
           "line": {
            "color": "#2a3f5f"
           }
          },
          "ternary": {
           "aaxis": {
            "gridcolor": "white",
            "linecolor": "white",
            "ticks": ""
           },
           "baxis": {
            "gridcolor": "white",
            "linecolor": "white",
            "ticks": ""
           },
           "bgcolor": "#E5ECF6",
           "caxis": {
            "gridcolor": "white",
            "linecolor": "white",
            "ticks": ""
           }
          },
          "title": {
           "x": 0.05
          },
          "xaxis": {
           "automargin": true,
           "gridcolor": "white",
           "linecolor": "white",
           "ticks": "",
           "title": {
            "standoff": 15
           },
           "zerolinecolor": "white",
           "zerolinewidth": 2
          },
          "yaxis": {
           "automargin": true,
           "gridcolor": "white",
           "linecolor": "white",
           "ticks": "",
           "title": {
            "standoff": 15
           },
           "zerolinecolor": "white",
           "zerolinewidth": 2
          }
         }
        },
        "xaxis": {
         "autorange": true,
         "dtick": 86400000,
         "range": [
          "2022-09-11 01:45:10.1124",
          "2022-09-27 22:14:49.8876"
         ],
         "tickangle": 90,
         "tickformat": "%m/%d",
         "ticks": "outside",
         "tickson": "boundaries",
         "type": "date"
        },
        "yaxis": {
         "autorange": true,
         "range": [
          -1.3080568720379147,
          24.85308056872038
         ],
         "type": "linear"
        }
       }
      },
      "image/png": "[encoded data removed]",
      "text/html": [
       "<div>                            <div id=\"412976e5-7ffc-483b-8574-5a3a534a2693\" class=\"plotly-graph-div\" style=\"height:525px; width:100%;\"></div>            <script type=\"text/javascript\">                require([\"plotly\"], function(Plotly) {                    window.PLOTLYENV=window.PLOTLYENV || {};                                    if (document.getElementById(\"412976e5-7ffc-483b-8574-5a3a534a2693\")) {                    Plotly.newPlot(                        \"412976e5-7ffc-483b-8574-5a3a534a2693\",                        [{\"line\":{\"color\":\"black\"},\"mode\":\"lines+markers\",\"text\":[15.0,14.0,13.0,12.0,11.0,10.0,9.0,8.0,7.0,6.0,5.0,4.0,3.0,2.0,1.0,0.0],\"type\":\"scatter\",\"x\":[\"2022-09-27\",\"2022-09-26\",\"2022-09-25\",\"2022-09-24\",\"2022-09-23\",\"2022-09-22\",\"2022-09-21\",\"2022-09-20\",\"2022-09-19\",\"2022-09-18\",\"2022-09-17\",\"2022-09-16\",\"2022-09-15\",\"2022-09-14\",\"2022-09-13\",\"2022-09-12\"],\"y\":[5,4,3,11,8,2,3,7,12,23,17,9,4,5,5,5]}],                        {\"annotations\":[{\"arrowhead\":1,\"showarrow\":false,\"text\":\"15\",\"x\":\"2022-09-27\",\"y\":0},{\"arrowhead\":1,\"showarrow\":false,\"text\":\"14\",\"x\":\"2022-09-26\",\"y\":0},{\"arrowhead\":1,\"showarrow\":false,\"text\":\"13\",\"x\":\"2022-09-25\",\"y\":0},{\"arrowhead\":1,\"showarrow\":false,\"text\":\"12\",\"x\":\"2022-09-24\",\"y\":0},{\"arrowhead\":1,\"showarrow\":false,\"text\":\"11\",\"x\":\"2022-09-23\",\"y\":0},{\"arrowhead\":1,\"showarrow\":false,\"text\":\"10\",\"x\":\"2022-09-22\",\"y\":0},{\"arrowhead\":1,\"showarrow\":false,\"text\":\"9\",\"x\":\"2022-09-21\",\"y\":0},{\"arrowhead\":1,\"showarrow\":false,\"text\":\"8\",\"x\":\"2022-09-20\",\"y\":0},{\"arrowhead\":1,\"showarrow\":false,\"text\":\"7\",\"x\":\"2022-09-19\",\"y\":0},{\"arrowhead\":1,\"showarrow\":false,\"text\":\"6\",\"x\":\"2022-09-18\",\"y\":0},{\"arrowhead\":1,\"showarrow\":false,\"text\":\"5\",\"x\":\"2022-09-17\",\"y\":0},{\"arrowhead\":1,\"showarrow\":false,\"text\":\"4\",\"x\":\"2022-09-16\",\"y\":0},{\"arrowhead\":1,\"showarrow\":false,\"text\":\"3\",\"x\":\"2022-09-15\",\"y\":0},{\"arrowhead\":1,\"showarrow\":false,\"text\":\"2\",\"x\":\"2022-09-14\",\"y\":0},{\"arrowhead\":1,\"showarrow\":false,\"text\":\"1\",\"x\":\"2022-09-13\",\"y\":0},{\"arrowhead\":1,\"showarrow\":false,\"text\":\"0\",\"x\":\"2022-09-12\",\"y\":0}],\"shapes\":[{\"line\":{\"color\":\"black\",\"dash\":\"dash\",\"width\":1},\"opacity\":0.8,\"type\":\"line\",\"x0\":\"2022-09-26 12:00\",\"x1\":\"2022-09-26 12:00\",\"xref\":\"x\",\"y0\":0,\"y1\":1,\"yref\":\"y domain\"},{\"line\":{\"color\":\"black\",\"dash\":\"dash\",\"width\":1},\"opacity\":0.8,\"type\":\"line\",\"x0\":\"2022-09-27 12:00\",\"x1\":\"2022-09-27 12:00\",\"xref\":\"x\",\"y0\":0,\"y1\":1,\"yref\":\"y domain\"},{\"fillcolor\":\"green\",\"line\":{\"width\":0},\"opacity\":0.1,\"type\":\"rect\",\"x0\":\"2022-09-26 12:00\",\"x1\":\"2022-09-27 12:00\",\"xref\":\"x\",\"y0\":0,\"y1\":1,\"yref\":\"y domain\"},{\"line\":{\"color\":\"black\",\"dash\":\"dash\",\"width\":1},\"opacity\":0.8,\"type\":\"line\",\"x0\":\"2022-09-25 12:00\",\"x1\":\"2022-09-25 12:00\",\"xref\":\"x\",\"y0\":0,\"y1\":1,\"yref\":\"y domain\"},{\"line\":{\"color\":\"black\",\"dash\":\"dash\",\"width\":1},\"opacity\":0.8,\"type\":\"line\",\"x0\":\"2022-09-26 12:00\",\"x1\":\"2022-09-26 12:00\",\"xref\":\"x\",\"y0\":0,\"y1\":1,\"yref\":\"y domain\"},{\"fillcolor\":\"red\",\"line\":{\"width\":0},\"opacity\":0.1,\"type\":\"rect\",\"x0\":\"2022-09-25 12:00\",\"x1\":\"2022-09-26 12:00\",\"xref\":\"x\",\"y0\":0,\"y1\":1,\"yref\":\"y domain\"},{\"line\":{\"color\":\"black\",\"dash\":\"dash\",\"width\":1},\"opacity\":0.8,\"type\":\"line\",\"x0\":\"2022-09-24 12:00\",\"x1\":\"2022-09-24 12:00\",\"xref\":\"x\",\"y0\":0,\"y1\":1,\"yref\":\"y domain\"},{\"line\":{\"color\":\"black\",\"dash\":\"dash\",\"width\":1},\"opacity\":0.8,\"type\":\"line\",\"x0\":\"2022-09-25 12:00\",\"x1\":\"2022-09-25 12:00\",\"xref\":\"x\",\"y0\":0,\"y1\":1,\"yref\":\"y domain\"},{\"fillcolor\":\"green\",\"line\":{\"width\":0},\"opacity\":0.1,\"type\":\"rect\",\"x0\":\"2022-09-24 12:00\",\"x1\":\"2022-09-25 12:00\",\"xref\":\"x\",\"y0\":0,\"y1\":1,\"yref\":\"y domain\"},{\"line\":{\"color\":\"black\",\"dash\":\"dash\",\"width\":1},\"opacity\":0.8,\"type\":\"line\",\"x0\":\"2022-09-23 12:00\",\"x1\":\"2022-09-23 12:00\",\"xref\":\"x\",\"y0\":0,\"y1\":1,\"yref\":\"y domain\"},{\"line\":{\"color\":\"black\",\"dash\":\"dash\",\"width\":1},\"opacity\":0.8,\"type\":\"line\",\"x0\":\"2022-09-24 12:00\",\"x1\":\"2022-09-24 12:00\",\"xref\":\"x\",\"y0\":0,\"y1\":1,\"yref\":\"y domain\"},{\"fillcolor\":\"green\",\"line\":{\"width\":0},\"opacity\":0.1,\"type\":\"rect\",\"x0\":\"2022-09-23 12:00\",\"x1\":\"2022-09-24 12:00\",\"xref\":\"x\",\"y0\":0,\"y1\":1,\"yref\":\"y domain\"},{\"line\":{\"color\":\"black\",\"dash\":\"dash\",\"width\":1},\"opacity\":0.8,\"type\":\"line\",\"x0\":\"2022-09-22 12:00\",\"x1\":\"2022-09-22 12:00\",\"xref\":\"x\",\"y0\":0,\"y1\":1,\"yref\":\"y domain\"},{\"line\":{\"color\":\"black\",\"dash\":\"dash\",\"width\":1},\"opacity\":0.8,\"type\":\"line\",\"x0\":\"2022-09-23 12:00\",\"x1\":\"2022-09-23 12:00\",\"xref\":\"x\",\"y0\":0,\"y1\":1,\"yref\":\"y domain\"},{\"fillcolor\":\"green\",\"line\":{\"width\":0},\"opacity\":0.1,\"type\":\"rect\",\"x0\":\"2022-09-22 12:00\",\"x1\":\"2022-09-23 12:00\",\"xref\":\"x\",\"y0\":0,\"y1\":1,\"yref\":\"y domain\"},{\"line\":{\"color\":\"black\",\"dash\":\"dash\",\"width\":1},\"opacity\":0.8,\"type\":\"line\",\"x0\":\"2022-09-21 12:00\",\"x1\":\"2022-09-21 12:00\",\"xref\":\"x\",\"y0\":0,\"y1\":1,\"yref\":\"y domain\"},{\"line\":{\"color\":\"black\",\"dash\":\"dash\",\"width\":1},\"opacity\":0.8,\"type\":\"line\",\"x0\":\"2022-09-22 12:00\",\"x1\":\"2022-09-22 12:00\",\"xref\":\"x\",\"y0\":0,\"y1\":1,\"yref\":\"y domain\"},{\"fillcolor\":\"green\",\"line\":{\"width\":0},\"opacity\":0.1,\"type\":\"rect\",\"x0\":\"2022-09-21 12:00\",\"x1\":\"2022-09-22 12:00\",\"xref\":\"x\",\"y0\":0,\"y1\":1,\"yref\":\"y domain\"},{\"line\":{\"color\":\"black\",\"dash\":\"dash\",\"width\":1},\"opacity\":0.8,\"type\":\"line\",\"x0\":\"2022-09-20 12:00\",\"x1\":\"2022-09-20 12:00\",\"xref\":\"x\",\"y0\":0,\"y1\":1,\"yref\":\"y domain\"},{\"line\":{\"color\":\"black\",\"dash\":\"dash\",\"width\":1},\"opacity\":0.8,\"type\":\"line\",\"x0\":\"2022-09-21 12:00\",\"x1\":\"2022-09-21 12:00\",\"xref\":\"x\",\"y0\":0,\"y1\":1,\"yref\":\"y domain\"},{\"fillcolor\":\"green\",\"line\":{\"width\":0},\"opacity\":0.1,\"type\":\"rect\",\"x0\":\"2022-09-20 12:00\",\"x1\":\"2022-09-21 12:00\",\"xref\":\"x\",\"y0\":0,\"y1\":1,\"yref\":\"y domain\"},{\"line\":{\"color\":\"black\",\"dash\":\"dash\",\"width\":1},\"opacity\":0.8,\"type\":\"line\",\"x0\":\"2022-09-19 12:00\",\"x1\":\"2022-09-19 12:00\",\"xref\":\"x\",\"y0\":0,\"y1\":1,\"yref\":\"y domain\"},{\"line\":{\"color\":\"black\",\"dash\":\"dash\",\"width\":1},\"opacity\":0.8,\"type\":\"line\",\"x0\":\"2022-09-20 12:00\",\"x1\":\"2022-09-20 12:00\",\"xref\":\"x\",\"y0\":0,\"y1\":1,\"yref\":\"y domain\"},{\"fillcolor\":\"green\",\"line\":{\"width\":0},\"opacity\":0.1,\"type\":\"rect\",\"x0\":\"2022-09-19 12:00\",\"x1\":\"2022-09-20 12:00\",\"xref\":\"x\",\"y0\":0,\"y1\":1,\"yref\":\"y domain\"},{\"line\":{\"color\":\"black\",\"dash\":\"dash\",\"width\":1},\"opacity\":0.8,\"type\":\"line\",\"x0\":\"2022-09-18 12:00\",\"x1\":\"2022-09-18 12:00\",\"xref\":\"x\",\"y0\":0,\"y1\":1,\"yref\":\"y domain\"},{\"line\":{\"color\":\"black\",\"dash\":\"dash\",\"width\":1},\"opacity\":0.8,\"type\":\"line\",\"x0\":\"2022-09-19 12:00\",\"x1\":\"2022-09-19 12:00\",\"xref\":\"x\",\"y0\":0,\"y1\":1,\"yref\":\"y domain\"},{\"fillcolor\":\"green\",\"line\":{\"width\":0},\"opacity\":0.1,\"type\":\"rect\",\"x0\":\"2022-09-18 12:00\",\"x1\":\"2022-09-19 12:00\",\"xref\":\"x\",\"y0\":0,\"y1\":1,\"yref\":\"y domain\"},{\"line\":{\"color\":\"black\",\"dash\":\"dash\",\"width\":1},\"opacity\":0.8,\"type\":\"line\",\"x0\":\"2022-09-17 12:00\",\"x1\":\"2022-09-17 12:00\",\"xref\":\"x\",\"y0\":0,\"y1\":1,\"yref\":\"y domain\"},{\"line\":{\"color\":\"black\",\"dash\":\"dash\",\"width\":1},\"opacity\":0.8,\"type\":\"line\",\"x0\":\"2022-09-18 12:00\",\"x1\":\"2022-09-18 12:00\",\"xref\":\"x\",\"y0\":0,\"y1\":1,\"yref\":\"y domain\"},{\"fillcolor\":\"red\",\"line\":{\"width\":0},\"opacity\":0.1,\"type\":\"rect\",\"x0\":\"2022-09-17 12:00\",\"x1\":\"2022-09-18 12:00\",\"xref\":\"x\",\"y0\":0,\"y1\":1,\"yref\":\"y domain\"},{\"line\":{\"color\":\"black\",\"dash\":\"dash\",\"width\":1},\"opacity\":0.8,\"type\":\"line\",\"x0\":\"2022-09-16 12:00\",\"x1\":\"2022-09-16 12:00\",\"xref\":\"x\",\"y0\":0,\"y1\":1,\"yref\":\"y domain\"},{\"line\":{\"color\":\"black\",\"dash\":\"dash\",\"width\":1},\"opacity\":0.8,\"type\":\"line\",\"x0\":\"2022-09-17 12:00\",\"x1\":\"2022-09-17 12:00\",\"xref\":\"x\",\"y0\":0,\"y1\":1,\"yref\":\"y domain\"},{\"fillcolor\":\"red\",\"line\":{\"width\":0},\"opacity\":0.1,\"type\":\"rect\",\"x0\":\"2022-09-16 12:00\",\"x1\":\"2022-09-17 12:00\",\"xref\":\"x\",\"y0\":0,\"y1\":1,\"yref\":\"y domain\"},{\"line\":{\"color\":\"black\",\"dash\":\"dash\",\"width\":1},\"opacity\":0.8,\"type\":\"line\",\"x0\":\"2022-09-15 12:00\",\"x1\":\"2022-09-15 12:00\",\"xref\":\"x\",\"y0\":0,\"y1\":1,\"yref\":\"y domain\"},{\"line\":{\"color\":\"black\",\"dash\":\"dash\",\"width\":1},\"opacity\":0.8,\"type\":\"line\",\"x0\":\"2022-09-16 12:00\",\"x1\":\"2022-09-16 12:00\",\"xref\":\"x\",\"y0\":0,\"y1\":1,\"yref\":\"y domain\"},{\"fillcolor\":\"red\",\"line\":{\"width\":0},\"opacity\":0.1,\"type\":\"rect\",\"x0\":\"2022-09-15 12:00\",\"x1\":\"2022-09-16 12:00\",\"xref\":\"x\",\"y0\":0,\"y1\":1,\"yref\":\"y domain\"},{\"line\":{\"color\":\"black\",\"dash\":\"dash\",\"width\":1},\"opacity\":0.8,\"type\":\"line\",\"x0\":\"2022-09-14 12:00\",\"x1\":\"2022-09-14 12:00\",\"xref\":\"x\",\"y0\":0,\"y1\":1,\"yref\":\"y domain\"},{\"line\":{\"color\":\"black\",\"dash\":\"dash\",\"width\":1},\"opacity\":0.8,\"type\":\"line\",\"x0\":\"2022-09-15 12:00\",\"x1\":\"2022-09-15 12:00\",\"xref\":\"x\",\"y0\":0,\"y1\":1,\"yref\":\"y domain\"},{\"fillcolor\":\"red\",\"line\":{\"width\":0},\"opacity\":0.1,\"type\":\"rect\",\"x0\":\"2022-09-14 12:00\",\"x1\":\"2022-09-15 12:00\",\"xref\":\"x\",\"y0\":0,\"y1\":1,\"yref\":\"y domain\"},{\"line\":{\"color\":\"black\",\"dash\":\"dash\",\"width\":1},\"opacity\":0.8,\"type\":\"line\",\"x0\":\"2022-09-13 12:00\",\"x1\":\"2022-09-13 12:00\",\"xref\":\"x\",\"y0\":0,\"y1\":1,\"yref\":\"y domain\"},{\"line\":{\"color\":\"black\",\"dash\":\"dash\",\"width\":1},\"opacity\":0.8,\"type\":\"line\",\"x0\":\"2022-09-14 12:00\",\"x1\":\"2022-09-14 12:00\",\"xref\":\"x\",\"y0\":0,\"y1\":1,\"yref\":\"y domain\"},{\"fillcolor\":\"red\",\"line\":{\"width\":0},\"opacity\":0.1,\"type\":\"rect\",\"x0\":\"2022-09-13 12:00\",\"x1\":\"2022-09-14 12:00\",\"xref\":\"x\",\"y0\":0,\"y1\":1,\"yref\":\"y domain\"},{\"line\":{\"color\":\"black\",\"dash\":\"dash\",\"width\":1},\"opacity\":0.8,\"type\":\"line\",\"x0\":\"2022-09-12 12:00\",\"x1\":\"2022-09-12 12:00\",\"xref\":\"x\",\"y0\":0,\"y1\":1,\"yref\":\"y domain\"},{\"line\":{\"color\":\"black\",\"dash\":\"dash\",\"width\":1},\"opacity\":0.8,\"type\":\"line\",\"x0\":\"2022-09-13 12:00\",\"x1\":\"2022-09-13 12:00\",\"xref\":\"x\",\"y0\":0,\"y1\":1,\"yref\":\"y domain\"},{\"fillcolor\":\"red\",\"line\":{\"width\":0},\"opacity\":0.1,\"type\":\"rect\",\"x0\":\"2022-09-12 12:00\",\"x1\":\"2022-09-13 12:00\",\"xref\":\"x\",\"y0\":0,\"y1\":1,\"yref\":\"y domain\"},{\"line\":{\"color\":\"black\",\"dash\":\"dash\",\"width\":1},\"opacity\":0.8,\"type\":\"line\",\"x0\":\"2022-09-11 12:00\",\"x1\":\"2022-09-11 12:00\",\"xref\":\"x\",\"y0\":0,\"y1\":1,\"yref\":\"y domain\"},{\"line\":{\"color\":\"black\",\"dash\":\"dash\",\"width\":1},\"opacity\":0.8,\"type\":\"line\",\"x0\":\"2022-09-12 12:00\",\"x1\":\"2022-09-12 12:00\",\"xref\":\"x\",\"y0\":0,\"y1\":1,\"yref\":\"y domain\"},{\"fillcolor\":\"red\",\"line\":{\"width\":0},\"opacity\":0.1,\"type\":\"rect\",\"x0\":\"2022-09-11 12:00\",\"x1\":\"2022-09-12 12:00\",\"xref\":\"x\",\"y0\":0,\"y1\":1,\"yref\":\"y domain\"}],\"template\":{\"data\":{\"bar\":[{\"error_x\":{\"color\":\"#2a3f5f\"},\"error_y\":{\"color\":\"#2a3f5f\"},\"marker\":{\"line\":{\"color\":\"#E5ECF6\",\"width\":0.5},\"pattern\":{\"fillmode\":\"overlay\",\"size\":10,\"solidity\":0.2}},\"type\":\"bar\"}],\"barpolar\":[{\"marker\":{\"line\":{\"color\":\"#E5ECF6\",\"width\":0.5},\"pattern\":{\"fillmode\":\"overlay\",\"size\":10,\"solidity\":0.2}},\"type\":\"barpolar\"}],\"carpet\":[{\"aaxis\":{\"endlinecolor\":\"#2a3f5f\",\"gridcolor\":\"white\",\"linecolor\":\"white\",\"minorgridcolor\":\"white\",\"startlinecolor\":\"#2a3f5f\"},\"baxis\":{\"endlinecolor\":\"#2a3f5f\",\"gridcolor\":\"white\",\"linecolor\":\"white\",\"minorgridcolor\":\"white\",\"startlinecolor\":\"#2a3f5f\"},\"type\":\"carpet\"}],\"choropleth\":[{\"colorbar\":{\"outlinewidth\":0,\"ticks\":\"\"},\"type\":\"choropleth\"}],\"contour\":[{\"colorbar\":{\"outlinewidth\":0,\"ticks\":\"\"},\"colorscale\":[[0.0,\"#0d0887\"],[0.1111111111111111,\"#46039f\"],[0.2222222222222222,\"#7201a8\"],[0.3333333333333333,\"#9c179e\"],[0.4444444444444444,\"#bd3786\"],[0.5555555555555556,\"#d8576b\"],[0.6666666666666666,\"#ed7953\"],[0.7777777777777778,\"#fb9f3a\"],[0.8888888888888888,\"#fdca26\"],[1.0,\"#f0f921\"]],\"type\":\"contour\"}],\"contourcarpet\":[{\"colorbar\":{\"outlinewidth\":0,\"ticks\":\"\"},\"type\":\"contourcarpet\"}],\"heatmap\":[{\"colorbar\":{\"outlinewidth\":0,\"ticks\":\"\"},\"colorscale\":[[0.0,\"#0d0887\"],[0.1111111111111111,\"#46039f\"],[0.2222222222222222,\"#7201a8\"],[0.3333333333333333,\"#9c179e\"],[0.4444444444444444,\"#bd3786\"],[0.5555555555555556,\"#d8576b\"],[0.6666666666666666,\"#ed7953\"],[0.7777777777777778,\"#fb9f3a\"],[0.8888888888888888,\"#fdca26\"],[1.0,\"#f0f921\"]],\"type\":\"heatmap\"}],\"heatmapgl\":[{\"colorbar\":{\"outlinewidth\":0,\"ticks\":\"\"},\"colorscale\":[[0.0,\"#0d0887\"],[0.1111111111111111,\"#46039f\"],[0.2222222222222222,\"#7201a8\"],[0.3333333333333333,\"#9c179e\"],[0.4444444444444444,\"#bd3786\"],[0.5555555555555556,\"#d8576b\"],[0.6666666666666666,\"#ed7953\"],[0.7777777777777778,\"#fb9f3a\"],[0.8888888888888888,\"#fdca26\"],[1.0,\"#f0f921\"]],\"type\":\"heatmapgl\"}],\"histogram\":[{\"marker\":{\"pattern\":{\"fillmode\":\"overlay\",\"size\":10,\"solidity\":0.2}},\"type\":\"histogram\"}],\"histogram2d\":[{\"colorbar\":{\"outlinewidth\":0,\"ticks\":\"\"},\"colorscale\":[[0.0,\"#0d0887\"],[0.1111111111111111,\"#46039f\"],[0.2222222222222222,\"#7201a8\"],[0.3333333333333333,\"#9c179e\"],[0.4444444444444444,\"#bd3786\"],[0.5555555555555556,\"#d8576b\"],[0.6666666666666666,\"#ed7953\"],[0.7777777777777778,\"#fb9f3a\"],[0.8888888888888888,\"#fdca26\"],[1.0,\"#f0f921\"]],\"type\":\"histogram2d\"}],\"histogram2dcontour\":[{\"colorbar\":{\"outlinewidth\":0,\"ticks\":\"\"},\"colorscale\":[[0.0,\"#0d0887\"],[0.1111111111111111,\"#46039f\"],[0.2222222222222222,\"#7201a8\"],[0.3333333333333333,\"#9c179e\"],[0.4444444444444444,\"#bd3786\"],[0.5555555555555556,\"#d8576b\"],[0.6666666666666666,\"#ed7953\"],[0.7777777777777778,\"#fb9f3a\"],[0.8888888888888888,\"#fdca26\"],[1.0,\"#f0f921\"]],\"type\":\"histogram2dcontour\"}],\"mesh3d\":[{\"colorbar\":{\"outlinewidth\":0,\"ticks\":\"\"},\"type\":\"mesh3d\"}],\"parcoords\":[{\"line\":{\"colorbar\":{\"outlinewidth\":0,\"ticks\":\"\"}},\"type\":\"parcoords\"}],\"pie\":[{\"automargin\":true,\"type\":\"pie\"}],\"scatter\":[{\"marker\":{\"colorbar\":{\"outlinewidth\":0,\"ticks\":\"\"}},\"type\":\"scatter\"}],\"scatter3d\":[{\"line\":{\"colorbar\":{\"outlinewidth\":0,\"ticks\":\"\"}},\"marker\":{\"colorbar\":{\"outlinewidth\":0,\"ticks\":\"\"}},\"type\":\"scatter3d\"}],\"scattercarpet\":[{\"marker\":{\"colorbar\":{\"outlinewidth\":0,\"ticks\":\"\"}},\"type\":\"scattercarpet\"}],\"scattergeo\":[{\"marker\":{\"colorbar\":{\"outlinewidth\":0,\"ticks\":\"\"}},\"type\":\"scattergeo\"}],\"scattergl\":[{\"marker\":{\"colorbar\":{\"outlinewidth\":0,\"ticks\":\"\"}},\"type\":\"scattergl\"}],\"scattermapbox\":[{\"marker\":{\"colorbar\":{\"outlinewidth\":0,\"ticks\":\"\"}},\"type\":\"scattermapbox\"}],\"scatterpolar\":[{\"marker\":{\"colorbar\":{\"outlinewidth\":0,\"ticks\":\"\"}},\"type\":\"scatterpolar\"}],\"scatterpolargl\":[{\"marker\":{\"colorbar\":{\"outlinewidth\":0,\"ticks\":\"\"}},\"type\":\"scatterpolargl\"}],\"scatterternary\":[{\"marker\":{\"colorbar\":{\"outlinewidth\":0,\"ticks\":\"\"}},\"type\":\"scatterternary\"}],\"surface\":[{\"colorbar\":{\"outlinewidth\":0,\"ticks\":\"\"},\"colorscale\":[[0.0,\"#0d0887\"],[0.1111111111111111,\"#46039f\"],[0.2222222222222222,\"#7201a8\"],[0.3333333333333333,\"#9c179e\"],[0.4444444444444444,\"#bd3786\"],[0.5555555555555556,\"#d8576b\"],[0.6666666666666666,\"#ed7953\"],[0.7777777777777778,\"#fb9f3a\"],[0.8888888888888888,\"#fdca26\"],[1.0,\"#f0f921\"]],\"type\":\"surface\"}],\"table\":[{\"cells\":{\"fill\":{\"color\":\"#EBF0F8\"},\"line\":{\"color\":\"white\"}},\"header\":{\"fill\":{\"color\":\"#C8D4E3\"},\"line\":{\"color\":\"white\"}},\"type\":\"table\"}]},\"layout\":{\"annotationdefaults\":{\"arrowcolor\":\"#2a3f5f\",\"arrowhead\":0,\"arrowwidth\":1},\"autotypenumbers\":\"strict\",\"coloraxis\":{\"colorbar\":{\"outlinewidth\":0,\"ticks\":\"\"}},\"colorscale\":{\"diverging\":[[0,\"#8e0152\"],[0.1,\"#c51b7d\"],[0.2,\"#de77ae\"],[0.3,\"#f1b6da\"],[0.4,\"#fde0ef\"],[0.5,\"#f7f7f7\"],[0.6,\"#e6f5d0\"],[0.7,\"#b8e186\"],[0.8,\"#7fbc41\"],[0.9,\"#4d9221\"],[1,\"#276419\"]],\"sequential\":[[0.0,\"#0d0887\"],[0.1111111111111111,\"#46039f\"],[0.2222222222222222,\"#7201a8\"],[0.3333333333333333,\"#9c179e\"],[0.4444444444444444,\"#bd3786\"],[0.5555555555555556,\"#d8576b\"],[0.6666666666666666,\"#ed7953\"],[0.7777777777777778,\"#fb9f3a\"],[0.8888888888888888,\"#fdca26\"],[1.0,\"#f0f921\"]],\"sequentialminus\":[[0.0,\"#0d0887\"],[0.1111111111111111,\"#46039f\"],[0.2222222222222222,\"#7201a8\"],[0.3333333333333333,\"#9c179e\"],[0.4444444444444444,\"#bd3786\"],[0.5555555555555556,\"#d8576b\"],[0.6666666666666666,\"#ed7953\"],[0.7777777777777778,\"#fb9f3a\"],[0.8888888888888888,\"#fdca26\"],[1.0,\"#f0f921\"]]},\"colorway\":[\"#636efa\",\"#EF553B\",\"#00cc96\",\"#ab63fa\",\"#FFA15A\",\"#19d3f3\",\"#FF6692\",\"#B6E880\",\"#FF97FF\",\"#FECB52\"],\"font\":{\"color\":\"#2a3f5f\"},\"geo\":{\"bgcolor\":\"white\",\"lakecolor\":\"white\",\"landcolor\":\"#E5ECF6\",\"showlakes\":true,\"showland\":true,\"subunitcolor\":\"white\"},\"hoverlabel\":{\"align\":\"left\"},\"hovermode\":\"closest\",\"mapbox\":{\"style\":\"light\"},\"paper_bgcolor\":\"white\",\"plot_bgcolor\":\"#E5ECF6\",\"polar\":{\"angularaxis\":{\"gridcolor\":\"white\",\"linecolor\":\"white\",\"ticks\":\"\"},\"bgcolor\":\"#E5ECF6\",\"radialaxis\":{\"gridcolor\":\"white\",\"linecolor\":\"white\",\"ticks\":\"\"}},\"scene\":{\"xaxis\":{\"backgroundcolor\":\"#E5ECF6\",\"gridcolor\":\"white\",\"gridwidth\":2,\"linecolor\":\"white\",\"showbackground\":true,\"ticks\":\"\",\"zerolinecolor\":\"white\"},\"yaxis\":{\"backgroundcolor\":\"#E5ECF6\",\"gridcolor\":\"white\",\"gridwidth\":2,\"linecolor\":\"white\",\"showbackground\":true,\"ticks\":\"\",\"zerolinecolor\":\"white\"},\"zaxis\":{\"backgroundcolor\":\"#E5ECF6\",\"gridcolor\":\"white\",\"gridwidth\":2,\"linecolor\":\"white\",\"showbackground\":true,\"ticks\":\"\",\"zerolinecolor\":\"white\"}},\"shapedefaults\":{\"line\":{\"color\":\"#2a3f5f\"}},\"ternary\":{\"aaxis\":{\"gridcolor\":\"white\",\"linecolor\":\"white\",\"ticks\":\"\"},\"baxis\":{\"gridcolor\":\"white\",\"linecolor\":\"white\",\"ticks\":\"\"},\"bgcolor\":\"#E5ECF6\",\"caxis\":{\"gridcolor\":\"white\",\"linecolor\":\"white\",\"ticks\":\"\"}},\"title\":{\"x\":0.05},\"xaxis\":{\"automargin\":true,\"gridcolor\":\"white\",\"linecolor\":\"white\",\"ticks\":\"\",\"title\":{\"standoff\":15},\"zerolinecolor\":\"white\",\"zerolinewidth\":2},\"yaxis\":{\"automargin\":true,\"gridcolor\":\"white\",\"linecolor\":\"white\",\"ticks\":\"\",\"title\":{\"standoff\":15},\"zerolinecolor\":\"white\",\"zerolinewidth\":2}}},\"xaxis\":{\"dtick\":86400000,\"tickangle\":90,\"tickformat\":\"%m/%d\",\"ticks\":\"outside\",\"tickson\":\"boundaries\"}},                        {\"responsive\": true}                    ).then(function(){\n",
       "                            \n",
       "var gd = document.getElementById('412976e5-7ffc-483b-8574-5a3a534a2693');\n",
       "var x = new MutationObserver(function (mutations, observer) {{\n",
       "        var display = window.getComputedStyle(gd).display;\n",
       "        if (!display || display === 'none') {{\n",
       "            console.log([gd, 'removed!']);\n",
       "            Plotly.purge(gd);\n",
       "            observer.disconnect();\n",
       "        }}\n",
       "}});\n",
       "\n",
       "// Listen for the removal of the full notebook cells\n",
       "var notebookContainer = gd.closest('#notebook-container');\n",
       "if (notebookContainer) {{\n",
       "    x.observe(notebookContainer, {childList: true});\n",
       "}}\n",
       "\n",
       "// Listen for the clearing of the current output cell\n",
       "var outputEl = gd.closest('.output');\n",
       "if (outputEl) {{\n",
       "    x.observe(outputEl, {childList: true});\n",
       "}}\n",
       "\n",
       "                        })                };                });            </script>        </div>"
      ]
     },
     "metadata": {},
     "output_type": "display_data"
    }
   ],
   "source": [
    "fig = go.Figure()\n",
    "\n",
    "#Add Cycle Count. Pandas not supported\n",
    "dates = dfsTemp[0]['Record Date'].tolist()\n",
    "text = dfsTemp[0]['Cycle Count'].tolist()\n",
    "for i in range(len(dates)):\n",
    "    fig.add_annotation(x=dates[i], y=0,\n",
    "            text=text[i],\n",
    "            showarrow=False,\n",
    "            arrowhead=1)\n",
    "\n",
    "color = dfsTemp[0]['Green Day'].tolist()\n",
    "for i in range(len(dates)):\n",
    "    startRect = datetime.datetime.strptime(dates[i], '%Y-%m-%d')\n",
    "    startRect = startRect - datetime.timedelta(days=0.5)\n",
    "    startRect = startRect.strftime('%Y-%m-%d %H:%M')\n",
    "    \n",
    "    endRect = datetime.datetime.strptime(dates[i], '%Y-%m-%d')\n",
    "    endRect = endRect + datetime.timedelta(days=0.5)\n",
    "    endRect = endRect.strftime('%Y-%m-%d %H:%M')\n",
    "    \n",
    "    \n",
    "    fig.add_vline(x=startRect, line_width=1, line_dash=\"dash\", line_color=\"black\", opacity=0.8)\n",
    "    fig.add_vline(x=endRect, line_width=1, line_dash=\"dash\", line_color=\"black\", opacity=0.8)\n",
    "    \n",
    "    if color[i] == 0:\n",
    "        fig.add_vrect(x0=startRect, x1=endRect, line_width=0, fillcolor=\"red\", opacity=0.1)\n",
    "    else:\n",
    "        fig.add_vrect(x0=startRect, x1=endRect, line_width=0, fillcolor=\"green\", opacity=0.1)\n",
    " \n",
    "\n",
    "fig.add_trace(go.Scatter(x=dfsTemp[0]['Record Date'],\n",
    "                         y=dfsTemp[0]['Monitor'],\n",
    "                         text=dfsTemp[0]['Cycle Count'],\n",
    "                         mode='lines+markers',\n",
    "                         line_color='black'))\n",
    "\n",
    "\n",
    "\n",
    "fig.update_xaxes(\n",
    "    tickformat='%m/%d',\n",
    "    tickangle = 90,\n",
    "    dtick=86400000, #dticks is in milliseconds\n",
    "    ticks='outside',\n",
    "    tickson='boundaries') \n",
    "              \n",
    "fig.show()"
   ]
  },
  {
   "cell_type": "code",
   "execution_count": 25,
   "id": "679d5b5d-336f-4d1b-b29a-5849fa2bb49f",
   "metadata": {},
   "outputs": [
    {
     "ename": "ValueError",
     "evalue": "Value of 'text' is not the name of a column in 'data_frame'. Expected one of ['ID', 'Record Date', 'Active', 'TimeStamp', 'Monitor', 'SexyTime', 'Green Day', 'New Cycle', 'Cycle Count'] but received: country",
     "output_type": "error",
     "traceback": [
      "\u001b[0;31m---------------------------------------------------------------------------\u001b[0m",
      "\u001b[0;31mValueError\u001b[0m                                Traceback (most recent call last)",
      "\u001b[0;32m/tmp/ipykernel_29907/2090425367.py\u001b[0m in \u001b[0;36m<module>\u001b[0;34m\u001b[0m\n\u001b[0;32m----> 1\u001b[0;31m \u001b[0mfig\u001b[0m \u001b[0;34m=\u001b[0m \u001b[0mpx\u001b[0m\u001b[0;34m.\u001b[0m\u001b[0mline\u001b[0m\u001b[0;34m(\u001b[0m\u001b[0mdfsTemp\u001b[0m\u001b[0;34m[\u001b[0m\u001b[0;36m0\u001b[0m\u001b[0;34m]\u001b[0m\u001b[0;34m,\u001b[0m \u001b[0mx\u001b[0m\u001b[0;34m=\u001b[0m\u001b[0;34m'Record Date'\u001b[0m\u001b[0;34m,\u001b[0m \u001b[0my\u001b[0m\u001b[0;34m=\u001b[0m\u001b[0;34m'Monitor'\u001b[0m\u001b[0;34m,\u001b[0m \u001b[0mtext\u001b[0m\u001b[0;34m=\u001b[0m\u001b[0;34m\"country\"\u001b[0m\u001b[0;34m,\u001b[0m \u001b[0mmarkers\u001b[0m\u001b[0;34m=\u001b[0m\u001b[0;32mTrue\u001b[0m\u001b[0;34m)\u001b[0m\u001b[0;34m\u001b[0m\u001b[0;34m\u001b[0m\u001b[0m\n\u001b[0m\u001b[1;32m      2\u001b[0m \u001b[0;34m\u001b[0m\u001b[0m\n\u001b[1;32m      3\u001b[0m \u001b[0;31m#Format date and center point\u001b[0m\u001b[0;34m\u001b[0m\u001b[0;34m\u001b[0m\u001b[0;34m\u001b[0m\u001b[0m\n\u001b[1;32m      4\u001b[0m \u001b[0mfig\u001b[0m\u001b[0;34m.\u001b[0m\u001b[0mupdate_xaxes\u001b[0m\u001b[0;34m(\u001b[0m\u001b[0mtickformat\u001b[0m\u001b[0;34m=\u001b[0m\u001b[0;34m'%Y-%m-%d'\u001b[0m\u001b[0;34m,\u001b[0m \u001b[0mticklabelmode\u001b[0m\u001b[0;34m=\u001b[0m\u001b[0;34m'Cycle Count'\u001b[0m\u001b[0;34m)\u001b[0m\u001b[0;34m\u001b[0m\u001b[0;34m\u001b[0m\u001b[0m\n\u001b[1;32m      5\u001b[0m \u001b[0;34m\u001b[0m\u001b[0m\n",
      "\u001b[0;32m~/.local/lib/python3.7/site-packages/plotly/express/_chart_types.py\u001b[0m in \u001b[0;36mline\u001b[0;34m(data_frame, x, y, line_group, color, line_dash, symbol, hover_name, hover_data, custom_data, text, facet_row, facet_col, facet_col_wrap, facet_row_spacing, facet_col_spacing, error_x, error_x_minus, error_y, error_y_minus, animation_frame, animation_group, category_orders, labels, orientation, color_discrete_sequence, color_discrete_map, line_dash_sequence, line_dash_map, symbol_sequence, symbol_map, markers, log_x, log_y, range_x, range_y, line_shape, render_mode, title, template, width, height)\u001b[0m\n\u001b[1;32m    258\u001b[0m     \u001b[0ma\u001b[0m \u001b[0mpolyline\u001b[0m \u001b[0mmark\u001b[0m \u001b[0;32min\u001b[0m \u001b[0;36m2\u001b[0m\u001b[0mD\u001b[0m \u001b[0mspace\u001b[0m\u001b[0;34m.\u001b[0m\u001b[0;34m\u001b[0m\u001b[0;34m\u001b[0m\u001b[0m\n\u001b[1;32m    259\u001b[0m     \"\"\"\n\u001b[0;32m--> 260\u001b[0;31m     \u001b[0;32mreturn\u001b[0m \u001b[0mmake_figure\u001b[0m\u001b[0;34m(\u001b[0m\u001b[0margs\u001b[0m\u001b[0;34m=\u001b[0m\u001b[0mlocals\u001b[0m\u001b[0;34m(\u001b[0m\u001b[0;34m)\u001b[0m\u001b[0;34m,\u001b[0m \u001b[0mconstructor\u001b[0m\u001b[0;34m=\u001b[0m\u001b[0mgo\u001b[0m\u001b[0;34m.\u001b[0m\u001b[0mScatter\u001b[0m\u001b[0;34m)\u001b[0m\u001b[0;34m\u001b[0m\u001b[0;34m\u001b[0m\u001b[0m\n\u001b[0m\u001b[1;32m    261\u001b[0m \u001b[0;34m\u001b[0m\u001b[0m\n\u001b[1;32m    262\u001b[0m \u001b[0;34m\u001b[0m\u001b[0m\n",
      "\u001b[0;32m~/.local/lib/python3.7/site-packages/plotly/express/_core.py\u001b[0m in \u001b[0;36mmake_figure\u001b[0;34m(args, constructor, trace_patch, layout_patch)\u001b[0m\n\u001b[1;32m   1931\u001b[0m     \u001b[0mapply_default_cascade\u001b[0m\u001b[0;34m(\u001b[0m\u001b[0margs\u001b[0m\u001b[0;34m)\u001b[0m\u001b[0;34m\u001b[0m\u001b[0;34m\u001b[0m\u001b[0m\n\u001b[1;32m   1932\u001b[0m \u001b[0;34m\u001b[0m\u001b[0m\n\u001b[0;32m-> 1933\u001b[0;31m     \u001b[0margs\u001b[0m \u001b[0;34m=\u001b[0m \u001b[0mbuild_dataframe\u001b[0m\u001b[0;34m(\u001b[0m\u001b[0margs\u001b[0m\u001b[0;34m,\u001b[0m \u001b[0mconstructor\u001b[0m\u001b[0;34m)\u001b[0m\u001b[0;34m\u001b[0m\u001b[0;34m\u001b[0m\u001b[0m\n\u001b[0m\u001b[1;32m   1934\u001b[0m     \u001b[0;32mif\u001b[0m \u001b[0mconstructor\u001b[0m \u001b[0;32min\u001b[0m \u001b[0;34m[\u001b[0m\u001b[0mgo\u001b[0m\u001b[0;34m.\u001b[0m\u001b[0mTreemap\u001b[0m\u001b[0;34m,\u001b[0m \u001b[0mgo\u001b[0m\u001b[0;34m.\u001b[0m\u001b[0mSunburst\u001b[0m\u001b[0;34m,\u001b[0m \u001b[0mgo\u001b[0m\u001b[0;34m.\u001b[0m\u001b[0mIcicle\u001b[0m\u001b[0;34m]\u001b[0m \u001b[0;32mand\u001b[0m \u001b[0margs\u001b[0m\u001b[0;34m[\u001b[0m\u001b[0;34m\"path\"\u001b[0m\u001b[0;34m]\u001b[0m \u001b[0;32mis\u001b[0m \u001b[0;32mnot\u001b[0m \u001b[0;32mNone\u001b[0m\u001b[0;34m:\u001b[0m\u001b[0;34m\u001b[0m\u001b[0;34m\u001b[0m\u001b[0m\n\u001b[1;32m   1935\u001b[0m         \u001b[0margs\u001b[0m \u001b[0;34m=\u001b[0m \u001b[0mprocess_dataframe_hierarchy\u001b[0m\u001b[0;34m(\u001b[0m\u001b[0margs\u001b[0m\u001b[0;34m)\u001b[0m\u001b[0;34m\u001b[0m\u001b[0;34m\u001b[0m\u001b[0m\n",
      "\u001b[0;32m~/.local/lib/python3.7/site-packages/plotly/express/_core.py\u001b[0m in \u001b[0;36mbuild_dataframe\u001b[0;34m(args, constructor)\u001b[0m\n\u001b[1;32m   1404\u001b[0m \u001b[0;34m\u001b[0m\u001b[0m\n\u001b[1;32m   1405\u001b[0m     df_output, wide_id_vars = process_args_into_dataframe(\n\u001b[0;32m-> 1406\u001b[0;31m         \u001b[0margs\u001b[0m\u001b[0;34m,\u001b[0m \u001b[0mwide_mode\u001b[0m\u001b[0;34m,\u001b[0m \u001b[0mvar_name\u001b[0m\u001b[0;34m,\u001b[0m \u001b[0mvalue_name\u001b[0m\u001b[0;34m\u001b[0m\u001b[0;34m\u001b[0m\u001b[0m\n\u001b[0m\u001b[1;32m   1407\u001b[0m     )\n\u001b[1;32m   1408\u001b[0m \u001b[0;34m\u001b[0m\u001b[0m\n",
      "\u001b[0;32m~/.local/lib/python3.7/site-packages/plotly/express/_core.py\u001b[0m in \u001b[0;36mprocess_args_into_dataframe\u001b[0;34m(args, wide_mode, var_name, value_name)\u001b[0m\n\u001b[1;32m   1205\u001b[0m                         \u001b[0;32mif\u001b[0m \u001b[0margument\u001b[0m \u001b[0;34m==\u001b[0m \u001b[0;34m\"index\"\u001b[0m\u001b[0;34m:\u001b[0m\u001b[0;34m\u001b[0m\u001b[0;34m\u001b[0m\u001b[0m\n\u001b[1;32m   1206\u001b[0m                             \u001b[0merr_msg\u001b[0m \u001b[0;34m+=\u001b[0m \u001b[0;34m\"\\n To use the index, pass it in directly as `df.index`.\"\u001b[0m\u001b[0;34m\u001b[0m\u001b[0;34m\u001b[0m\u001b[0m\n\u001b[0;32m-> 1207\u001b[0;31m                         \u001b[0;32mraise\u001b[0m \u001b[0mValueError\u001b[0m\u001b[0;34m(\u001b[0m\u001b[0merr_msg\u001b[0m\u001b[0;34m)\u001b[0m\u001b[0;34m\u001b[0m\u001b[0;34m\u001b[0m\u001b[0m\n\u001b[0m\u001b[1;32m   1208\u001b[0m                 \u001b[0;32melif\u001b[0m \u001b[0mlength\u001b[0m \u001b[0;32mand\u001b[0m \u001b[0mlen\u001b[0m\u001b[0;34m(\u001b[0m\u001b[0mdf_input\u001b[0m\u001b[0;34m[\u001b[0m\u001b[0margument\u001b[0m\u001b[0;34m]\u001b[0m\u001b[0;34m)\u001b[0m \u001b[0;34m!=\u001b[0m \u001b[0mlength\u001b[0m\u001b[0;34m:\u001b[0m\u001b[0;34m\u001b[0m\u001b[0;34m\u001b[0m\u001b[0m\n\u001b[1;32m   1209\u001b[0m                     raise ValueError(\n",
      "\u001b[0;31mValueError\u001b[0m: Value of 'text' is not the name of a column in 'data_frame'. Expected one of ['ID', 'Record Date', 'Active', 'TimeStamp', 'Monitor', 'SexyTime', 'Green Day', 'New Cycle', 'Cycle Count'] but received: country"
     ]
    }
   ],
   "source": [
    "fig = px.line(dfsTemp[0], x='Record Date', y='Monitor', text=\"country\", markers=True)\n",
    "\n",
    "#Format date and center point \n",
    "fig.update_xaxes(tickformat='%Y-%m-%d', ticklabelmode='period')\n",
    "\n",
    "#Add Count above or below plot\n",
    "\n",
    "#Add lines per date or split up background - https://community.plotly.com/t/px-timeline-vertical-line-to-indicate-certain-date/55137/2\n",
    "\n",
    "#Add Green/Red days - colorscale - https://github.com/plotly/plotly.js/issues/5238\n",
    "\n",
    "fig.show()"
   ]
  },
  {
   "cell_type": "code",
   "execution_count": null,
   "id": "2e766b34-4485-4020-8c17-412001278e7c",
   "metadata": {},
   "outputs": [],
   "source": [
    "fig.to_html(include_plotlyjs=False, full_html=False)"
   ]
  }
 ],
 "metadata": {
  "kernelspec": {
   "display_name": "Python 3 (ipykernel)",
   "language": "python",
   "name": "python3"
  },
  "language_info": {
   "codemirror_mode": {
    "name": "ipython",
    "version": 3
   },
   "file_extension": ".py",
   "mimetype": "text/x-python",
   "name": "python",
   "nbconvert_exporter": "python",
   "pygments_lexer": "ipython3",
   "version": "3.7.3"
  }
 },
 "nbformat": 4,
 "nbformat_minor": 5
}
